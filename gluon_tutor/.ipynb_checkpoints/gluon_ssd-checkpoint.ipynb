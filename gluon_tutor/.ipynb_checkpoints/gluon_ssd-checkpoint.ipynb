{
 "cells": [
  {
   "cell_type": "markdown",
   "metadata": {},
   "source": [
    "## Gluon Object Detection\n",
    "\n",
    "SSD这种检测方法咋感觉有点像FPN，特征金字塔，在较底层的特征有着较高的分辨率，在较高的特征有着较低的分辨率，它在高分辨率和低分便率都进行class predict和box predict。让我们首先了解一下anchor box是个什么东西。"
   ]
  },
  {
   "cell_type": "markdown",
   "metadata": {},
   "source": [
    "我们知道，proposal的提取是每个像素点都会提取一遍anchor，也就是prior的区域，那么问题来了：\n",
    "- 所谓每一个像素点，是所有的像素点吗？如果不是第一个提取proposal的像素点是哪个？\n",
    "- 如果size是原尺寸的一半，也就是scale 0.5,那么它的不同ratio得到的具体size怎么计算？\n",
    "\n",
    "上面两个问题中，首先是proposal开始的第一个像素点开始的位置，这里其实应该是从最大的scale的中心位置开始，比如，下面的anchor中，最大的scale是1,也就是原图，那么它的中心位置就是所有像素点的开始。那么问题又来了，这是第一个像素点，那最后一个像素点呢？为什么要从scale为1的中心位置开始作为一个像素点进行proposal的提取呢？"
   ]
  },
  {
   "cell_type": "code",
   "execution_count": 4,
   "metadata": {},
   "outputs": [
    {
     "name": "stdout",
     "output_type": "stream",
     "text": [
      "(1, 8000, 4)\n",
      "(40, 40, 5, 4)\n"
     ]
    }
   ],
   "source": [
    "import mxnet as mx\n",
    "from mxnet import nd\n",
    "from mxnet.contrib.ndarray import MultiBoxPrior\n",
    "\n",
    "w = 40\n",
    "h = 40\n",
    "x = nd.random_uniform(shape=(1, 3, w, h))\n",
    "y = MultiBoxPrior(x, sizes=[0.5, 0.25, 0.1], ratios=[1, 2, 0.5])\n",
    "# 我们的到了8000个proposal\n",
    "print(y.shape)\n",
    "\n",
    "# 按照每行每列的anchor来shape一下\n",
    "boxes = y.reshape((w, h, -1, 4))\n",
    "print(boxes.shape)"
   ]
  },
  {
   "cell_type": "code",
   "execution_count": null,
   "metadata": {},
   "outputs": [],
   "source": []
  }
 ],
 "metadata": {
  "kernelspec": {
   "display_name": "Python 3",
   "language": "python",
   "name": "python3"
  },
  "language_info": {
   "codemirror_mode": {
    "name": "ipython",
    "version": 3
   },
   "file_extension": ".py",
   "mimetype": "text/x-python",
   "name": "python",
   "nbconvert_exporter": "python",
   "pygments_lexer": "ipython3",
   "version": "3.5.2"
  }
 },
 "nbformat": 4,
 "nbformat_minor": 2
}
