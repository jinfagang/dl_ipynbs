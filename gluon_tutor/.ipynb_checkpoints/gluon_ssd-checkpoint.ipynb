{
 "cells": [
  {
   "cell_type": "markdown",
   "metadata": {},
   "source": [
    "## Gluon Object Detection\n",
    "\n",
    "SSD这种检测方法咋感觉有点像FPN，特征金字塔，在较底层的特征有着较高的分辨率，在较高的特征有着较低的分辨率，它在高分辨率和低分便率都进行class predict和box predict。让我们首先了解一下anchor box是个什么东西。"
   ]
  },
  {
   "cell_type": "markdown",
   "metadata": {},
   "source": [
    "我们知道，proposal的提取是每个像素点都会提取一遍anchor，也就是prior的区域，那么问题来了：\n",
    "- 所谓每一个像素点，是所有的像素点吗？如果不是第一个提取proposal的像素点是哪个？\n",
    "- 如果size是原尺寸的一半，也就是scale 0.5,那么它的不同ratio得到的具体size怎么计算？\n",
    "\n",
    "上面两个问题中，首先是proposal开始的第一个像素点开始的位置，这里其实应该是从最大的scale的中心位置开始，比如，下面的anchor中，最大的scale是1,也就是原图，那么它的中心位置就是所有像素点的开始。那么问题又来了，这是第一个像素点，那最后一个像素点呢？为什么要从scale为1的中心位置开始作为一个像素点进行proposal的提取呢？"
   ]
  },
  {
   "cell_type": "code",
   "execution_count": 4,
   "metadata": {},
   "outputs": [
    {
     "name": "stdout",
     "output_type": "stream",
     "text": [
      "(1, 8000, 4)\n",
      "(40, 40, 5, 4)\n"
     ]
    }
   ],
   "source": [
    "import mxnet as mx\n",
    "from mxnet import nd\n",
    "from mxnet.contrib.ndarray import MultiBoxPrior\n",
    "\n",
    "n = 40\n",
    "w = 40\n",
    "h = 40\n",
    "x = nd.random_uniform(shape=(1, 3, w, h))\n",
    "y = MultiBoxPrior(x, sizes=[0.5, 0.25, 0.1], ratios=[1, 2, 0.5])\n",
    "# 我们的到了8000个proposal, 如果是每一个像素点都提取9个anchor，那么应该是14400个anchor，但是实际上只有8000个\n",
    "# 这是为毛呢 \n",
    "print(y.shape)\n",
    "\n",
    "# 按照每行每列的anchor来shape一下, 这5怎么来的呢，我草\n",
    "boxes = y.reshape((w, h, -1, 4))\n",
    "print(boxes.shape)"
   ]
  },
  {
   "cell_type": "markdown",
   "metadata": {
    "collapsed": true
   },
   "source": [
    "按道理，这里如果说每一个像素都提取9个anchor，那么应该是会产生14400个anchor，但是这个MultiBoxPrior却只产生了8000个anchor。为什么会这样呢？在教程里面有这么一句话，来仔细理解一下：\n",
    "\n",
    "*The first i boxes are generated from sizes[i], ratios[0] if i≤n\n",
    " otherwise sizes[0], ratios[i-n].*\n",
    " \n",
    " 其中n指的是n中sizes，这句话的意思是，我们有n个sizes，m个ratios，那么产生的boxes**并不是我们想象的n\\*m**，而是**n+m-1**:\n",
    " \n",
    " ```\n",
    " i = 1, sizes[0], ratios[0]\n",
    " i = 2, sizes[1], ratios[0]\n",
    " i = 3, sizes[2], ratios[0]\n",
    " i = 4, sizes[0], ratios[1]\n",
    " i = 5, sizes[0], ratios[2]\n",
    " ```\n",
    " 为什么是1-5？因为3+3-1=5, 为什么ratios[0]的时候对应这个3个sizes，而ratios[1]和ratios[2]都只对应了sizes[0]呢？？\n",
    "我们看看具体的数值：\n",
    " ```\n",
    " i = 1, sizes[0]:0.5, ratios[0]:1\n",
    " i = 2, sizes[1]:0.25, ratios[0]:1\n",
    " i = 3, sizes[2]:0.1, ratios[0]:1\n",
    " i = 4, sizes[0]:0.5, ratios[1]:2\n",
    " i = 5, sizes[0]:0.5, ratios[2]:0.5\n",
    " ```\n",
    " 我们算是看明白了：\n",
    " - 这样做基于样本中大部分物体是正方形的，这样从0.5-0.1，确保都有比例为1的anchor；\n",
    " - 在均匀尺度也就是0.5这个size上，不大不小，覆盖了2, 0.5，1等极端比例，这就意味着，在均匀物体上，尽量把多个尺度检测出来。\n",
    " - 再仔细看看，为什么size在四分之一和十分之的时候只有1的ratios呢？这是因为这个时候基本上都是小物体了，有两个原因这么做，首先第一个是样本中小物体都是方形的，第二个是小物体没有必要去追求非主流尺度，因为十分之一非常非常小了，非主流尺度反而会不准确。\n",
    " \n",
    "这样一来，生成8000个anchor也就不足为奇了。但是问题又来了。按照这个理论，我改一下sizes和ratios的顺序，生成的框不就是不同了么？那这么做还有什么意义呢？这个MultiBoxPrior里面处理的逻辑究竟是怎么样的呢？"
   ]
  },
  {
   "cell_type": "code",
   "execution_count": 5,
   "metadata": {},
   "outputs": [
    {
     "data": {
      "image/png": "[encoded data removed]",
      "text/plain": [
       "<matplotlib.figure.Figure at 0x110ec22e8>"
      ]
     },
     "metadata": {},
     "output_type": "display_data"
    }
   ],
   "source": [
    "import matplotlib.pyplot as plt\n",
    "def box_to_rect(box, color, linewidth=3):\n",
    "    \"\"\"convert an anchor box to a matplotlib rectangle\"\"\"\n",
    "    box = box.asnumpy()\n",
    "    return plt.Rectangle(\n",
    "        (box[0], box[1]), (box[2]-box[0]), (box[3]-box[1]),\n",
    "        fill=False, edgecolor=color, linewidth=linewidth)\n",
    "colors = ['blue', 'green', 'red', 'black', 'magenta']\n",
    "plt.imshow(nd.ones((n, n, 3)).asnumpy())\n",
    "anchors = boxes[20, 20, :, :]\n",
    "for i in range(anchors.shape[0]):\n",
    "    plt.gca().add_patch(box_to_rect(anchors[i,:]*n, colors[i]))\n",
    "plt.show()"
   ]
  },
  {
   "cell_type": "markdown",
   "metadata": {},
   "source": [
    "从图上来看，更加清晰了，看到没，在最里面的十分之一的size里面，并没有1：2或者是2：1这样的ratios，所以跟上面的是一致的。但是我想不通，如果是增加1：2和2：1在小的size上，那么会有什么不同呢？为什么不加呢？(如果你想明白了这个问题，可以给我submit一个PR来让大家理解一下。)"
   ]
  },
  {
   "cell_type": "code",
   "execution_count": null,
   "metadata": {},
   "outputs": [],
   "source": []
  }
 ],
 "metadata": {
  "kernelspec": {
   "display_name": "Python 3",
   "language": "python",
   "name": "python3"
  },
  "language_info": {
   "codemirror_mode": {
    "name": "ipython",
    "version": 3
   },
   "file_extension": ".py",
   "mimetype": "text/x-python",
   "name": "python",
   "nbconvert_exporter": "python",
   "pygments_lexer": "ipython3",
   "version": "3.6.3"
  }
 },
 "nbformat": 4,
 "nbformat_minor": 2
}
